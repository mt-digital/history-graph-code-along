{
 "cells": [
  {
   "cell_type": "markdown",
   "metadata": {},
   "source": [
    "# Everything is an object\n",
    "\n",
    "Even integers and functions, as we'll see. Below is an example of converting the largest integer that can be represented by one byte, $255 = 1111 1111 = 2^8 - 1 = FF$. "
   ]
  },
  {
   "cell_type": "code",
   "execution_count": 10,
   "metadata": {
    "collapsed": false
   },
   "outputs": [
    {
     "name": "stdout",
     "output_type": "stream",
     "text": [
      "b'\\xff'\n",
      "<class 'int'>\n"
     ]
    }
   ],
   "source": [
    "a = 255\n",
    "print(a.to_bytes(1, 'big'))\n",
    "print(type(a))"
   ]
  },
  {
   "cell_type": "code",
   "execution_count": 12,
   "metadata": {
    "collapsed": false
   },
   "outputs": [
    {
     "name": "stdout",
     "output_type": "stream",
     "text": [
      "<class 'function'>\n",
      "<class 'function'>\n",
      "<class 'int'>\n"
     ]
    }
   ],
   "source": [
    "def multiply_scalar(factor):\n",
    "    \n",
    "    def return_fun(x):\n",
    "        return factor * x\n",
    "    \n",
    "    return return_fun\n",
    "\n",
    "print(type(multiply_scalar))\n",
    "print(type(multiply_scalar(5)))\n",
    "print(type(multiply_scalar(5)(2)))"
   ]
  },
  {
   "cell_type": "markdown",
   "metadata": {},
   "source": [
    "# List class and list methods\n",
    "\n",
    "Next, we'll look at the `list` class. Like other classes, it has methods and attributes. We also show how to use the `in` operator, and how strings can be thought of as lists of characters."
   ]
  },
  {
   "cell_type": "code",
   "execution_count": 16,
   "metadata": {
    "collapsed": false
   },
   "outputs": [
    {
     "name": "stdout",
     "output_type": "stream",
     "text": [
      "3\n",
      "[1, 2, [7, 8, 9]]\n"
     ]
    }
   ],
   "source": [
    "l1 = [1, 2]\n",
    "l2 = [7, 8, 9]\n",
    "\n",
    "print(len(l2))\n",
    "\n",
    "l1.append(l2)\n",
    "print(l1)"
   ]
  },
  {
   "cell_type": "code",
   "execution_count": 17,
   "metadata": {
    "collapsed": false
   },
   "outputs": [
    {
     "name": "stdout",
     "output_type": "stream",
     "text": [
      "[1, 2, 7, 8, 9]\n"
     ]
    }
   ],
   "source": [
    "# append isn't right! let's extend instead...\n",
    "\n",
    "l1 = [1, 2]\n",
    "l1.extend(l2)\n",
    "print(l1)"
   ]
  },
  {
   "cell_type": "code",
   "execution_count": 28,
   "metadata": {
    "collapsed": false
   },
   "outputs": [
    {
     "name": "stdout",
     "output_type": "stream",
     "text": [
      "[1, 2, 7, 8, 9, 1, 2, 7, 8, 9]\n",
      "True\n"
     ]
    }
   ],
   "source": [
    "# now let's build one more list, concatenating our new l1 to itself\n",
    "list_add = l1 + l1\n",
    "list_add_2 = l1 * 2\n",
    "\n",
    "print(list_add)\n",
    "print(list_add == list_add_2)"
   ]
  },
  {
   "cell_type": "code",
   "execution_count": 32,
   "metadata": {
    "collapsed": false
   },
   "outputs": [
    {
     "name": "stdout",
     "output_type": "stream",
     "text": [
      "(4, 9)\n",
      "False\n",
      "True\n"
     ]
    }
   ],
   "source": [
    "print(next((idx, el) for idx, el in enumerate(list_add) if el > 8))\n",
    "print(5 in list_add)\n",
    "print(7 in list_add)"
   ]
  },
  {
   "cell_type": "code",
   "execution_count": 20,
   "metadata": {
    "collapsed": false
   },
   "outputs": [
    {
     "name": "stdout",
     "output_type": "stream",
     "text": [
      "woolybooly\n"
     ]
    }
   ],
   "source": [
    "# Finally, strings as lists of characters\n",
    "\n",
    "s1 = 'wooly'\n",
    "s2 = 'booly'\n",
    "s3 = s1 + s2\n",
    "print(s3)"
   ]
  },
  {
   "cell_type": "code",
   "execution_count": 24,
   "metadata": {
    "collapsed": false
   },
   "outputs": [
    {
     "name": "stdout",
     "output_type": "stream",
     "text": [
      "wooly-booly\n",
      "True\n",
      "True\n"
     ]
    }
   ],
   "source": [
    "s3_dash = '-'.join([s1, s2])\n",
    "print(s3_dash)\n",
    "s1_spl, s2_spl = s3_dash.split('-')\n",
    "print(s1_spl == s1)\n",
    "print(s2_spl == s2)"
   ]
  },
  {
   "cell_type": "code",
   "execution_count": 27,
   "metadata": {
    "collapsed": false
   },
   "outputs": [
    {
     "name": "stdout",
     "output_type": "stream",
     "text": [
      "True\n"
     ]
    }
   ],
   "source": [
    "s_yo = 'Toyota'\n",
    "\n",
    "print(s_yo[2:4] == 'yo')  # can leave out indices as a quick quiz"
   ]
  },
  {
   "cell_type": "code",
   "execution_count": null,
   "metadata": {
    "collapsed": true
   },
   "outputs": [],
   "source": [
    "print()"
   ]
  },
  {
   "cell_type": "markdown",
   "metadata": {},
   "source": [
    "# List and dictionary comprehensions\n",
    "\n",
    "We can build up lists of anything. List comprehensions are a concise, memory-efficient, and fun way to build lists in Python."
   ]
  },
  {
   "cell_type": "code",
   "execution_count": 11,
   "metadata": {
    "collapsed": false
   },
   "outputs": [
    {
     "name": "stdout",
     "output_type": "stream",
     "text": [
      "{1: 6, 2: 12, 3: 18, 4: 24, 5: 30, 6: 36}\n"
     ]
    }
   ],
   "source": [
    "just_for_funsies = [\n",
    "    multiply_scalar(fac) for fac in range(1, 7)\n",
    "]\n",
    "\n",
    "factors_of_six = {\n",
    "    fac + 1: fun(6) for fac, fun in enumerate(just_for_funsies)\n",
    "}\n",
    "\n",
    "print(factors_of_six)"
   ]
  }
 ],
 "metadata": {
  "kernelspec": {
   "display_name": "Python 3",
   "language": "python",
   "name": "python3"
  },
  "language_info": {
   "codemirror_mode": {
    "name": "ipython",
    "version": 3
   },
   "file_extension": ".py",
   "mimetype": "text/x-python",
   "name": "python",
   "nbconvert_exporter": "python",
   "pygments_lexer": "ipython3",
   "version": "3.5.2"
  }
 },
 "nbformat": 4,
 "nbformat_minor": 1
}
