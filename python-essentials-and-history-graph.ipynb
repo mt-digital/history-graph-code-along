{
 "cells": [
  {
   "cell_type": "markdown",
   "metadata": {},
   "source": [
    "# Everything is an object, everything has a class\n",
    "\n",
    "Everything that can be defined in Python comes from a class. There are classes of numbers, including `int` and `float`; there is a `function` class. In addition to studying functions, we'll also examine two important built-in classes: the `list` and `dict` classes. \n",
    "\n",
    "Below is an interesting example of the `int` class in Python. We use the `to_bytes` method of the `int` class to convert the largest integer that can be represented by one byte, $255 = 1111~1111 = 2^8 - 1 = FF$. "
   ]
  },
  {
   "cell_type": "markdown",
   "metadata": {},
   "source": [
    "In the example above, we used the _method_ `a.to_bytes()` to convert the integer representation of 255 to the bytes representation of 255. Programming in general is a series of changes in representation. Classes have two basic components: _attributes_ and _methods_.\n",
    "\n",
    "For now, we'll leave classes and move on to functions. \n",
    "\n",
    "## Functions\n",
    "\n",
    "Functions have a unique way to be defined, via the `def` keyword"
   ]
  },
  {
   "cell_type": "markdown",
   "metadata": {},
   "source": [
    "### Keyword Arguments\n",
    "\n",
    "In addition to positional arguments, like `stuff` above, one can define keyword arguments. Keyword arguments must have defaults. For example"
   ]
  },
  {
   "cell_type": "markdown",
   "metadata": {},
   "source": [
    "### Functions can return functions\n",
    "\n",
    "In the example below we define a function that returns another function. Functions can also take functions as input. A function that takes another function as input is called a \"higher-order function\"."
   ]
  },
  {
   "cell_type": "markdown",
   "metadata": {},
   "source": [
    "# List class and list methods\n",
    "\n",
    "Next, we'll look at the `list` class. Like other classes, it has methods and attributes. We also show how to use the `in` operator, and how strings can be thought of as lists of characters."
   ]
  },
  {
   "cell_type": "markdown",
   "metadata": {},
   "source": [
    "### Variable-length arguments and keyword arguments\n",
    "\n",
    "Now that we have studied lists and dictionaries, we can look at functions with a variable number of positional and keyword arguments. This is some of the strangest notation to see for beginners. I'm including it just so you have some exposure to it if you're trying to read some documentation in the future. "
   ]
  },
  {
   "cell_type": "markdown",
   "metadata": {},
   "source": [
    "# List and dictionary comprehensions\n",
    "\n",
    "We can build up lists of anything. List comprehensions are a concise, memory-efficient, and fun way to build lists in Python."
   ]
  },
  {
   "cell_type": "markdown",
   "metadata": {},
   "source": [
    "# Classes\n",
    "\n",
    "We'll put together a toy class below that has a single attribute, `N`, and a single method `print_hello()` that counts up from 1 to N and then prints 'Hello, World' with `N` exclamation points."
   ]
  }
 ],
 "metadata": {
  "kernelspec": {
   "display_name": "Python 3",
   "language": "python",
   "name": "python3"
  },
  "language_info": {
   "codemirror_mode": {
    "name": "ipython",
    "version": 3
   },
   "file_extension": ".py",
   "mimetype": "text/x-python",
   "name": "python",
   "nbconvert_exporter": "python",
   "pygments_lexer": "ipython3",
   "version": "3.5.2"
  }
 },
 "nbformat": 4,
 "nbformat_minor": 1
}
